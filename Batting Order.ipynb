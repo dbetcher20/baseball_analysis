{
 "cells": [
  {
   "cell_type": "code",
   "execution_count": 56,
   "metadata": {},
   "outputs": [
    {
     "ename": "TypeError",
     "evalue": "'DataFrame' object is not callable",
     "output_type": "error",
     "traceback": [
      "\u001b[1;31m---------------------------------------------------------------------------\u001b[0m",
      "\u001b[1;31mTypeError\u001b[0m                                 Traceback (most recent call last)",
      "\u001b[1;32m<ipython-input-56-d61c9e0bb709>\u001b[0m in \u001b[0;36m<module>\u001b[1;34m\u001b[0m\n\u001b[0;32m      4\u001b[0m \u001b[1;33m\u001b[0m\u001b[0m\n\u001b[0;32m      5\u001b[0m \u001b[0mdata\u001b[0m \u001b[1;33m=\u001b[0m \u001b[0mstatcast\u001b[0m\u001b[1;33m(\u001b[0m\u001b[0mstart_dt\u001b[0m \u001b[1;33m=\u001b[0m \u001b[1;34m'2019-03-28'\u001b[0m\u001b[1;33m,\u001b[0m \u001b[0mteam\u001b[0m \u001b[1;33m=\u001b[0m \u001b[1;34m'CHC'\u001b[0m\u001b[1;33m)\u001b[0m\u001b[1;33m\u001b[0m\u001b[0m\n\u001b[1;32m----> 6\u001b[1;33m \u001b[0mdata\u001b[0m\u001b[1;33m[\u001b[0m\u001b[1;34m'inn'\u001b[0m\u001b[1;33m]\u001b[0m \u001b[1;33m=\u001b[0m \u001b[0mstr\u001b[0m\u001b[1;33m(\u001b[0m\u001b[0mdata\u001b[0m\u001b[1;33m(\u001b[0m\u001b[1;34m'inning_topbot'\u001b[0m\u001b[1;33m)\u001b[0m\u001b[1;33m)\u001b[0m \u001b[1;33m+\u001b[0m \u001b[1;34m' - '\u001b[0m \u001b[1;33m+\u001b[0m \u001b[0mstr\u001b[0m\u001b[1;33m(\u001b[0m\u001b[0mdata\u001b[0m\u001b[1;33m(\u001b[0m\u001b[1;34m'inning'\u001b[0m\u001b[1;33m)\u001b[0m\u001b[1;33m)\u001b[0m\u001b[1;33m\u001b[0m\u001b[0m\n\u001b[0m\u001b[0;32m      7\u001b[0m \u001b[0mdata_batters\u001b[0m \u001b[1;33m=\u001b[0m \u001b[0mnumpy\u001b[0m\u001b[1;33m.\u001b[0m\u001b[0munique\u001b[0m\u001b[1;33m(\u001b[0m\u001b[0mdata\u001b[0m\u001b[1;33m[\u001b[0m\u001b[1;33m[\u001b[0m\u001b[1;34m'batter'\u001b[0m\u001b[1;33m]\u001b[0m\u001b[1;33m]\u001b[0m\u001b[1;33m)\u001b[0m\u001b[1;33m\u001b[0m\u001b[0m\n\u001b[0;32m      8\u001b[0m \u001b[0mplayers\u001b[0m \u001b[1;33m=\u001b[0m \u001b[0mplayerid_reverse_lookup\u001b[0m\u001b[1;33m(\u001b[0m\u001b[0mplayer_ids\u001b[0m \u001b[1;33m=\u001b[0m \u001b[0mdata_batters\u001b[0m\u001b[1;33m)\u001b[0m\u001b[1;33m\u001b[0m\u001b[0m\n",
      "\u001b[1;31mTypeError\u001b[0m: 'DataFrame' object is not callable"
     ]
    }
   ],
   "source": [
    "import pandas\n",
    "import numpy\n",
    "from pybaseball import statcast, playerid_reverse_lookup\n",
    "\n",
    "data = statcast(start_dt = '2019-03-28', team = 'CHC')\n",
    "data['inn'] = str(data['inning_topbot']) + ' - ' + str(data['inning'])\n",
    "data_batters = numpy.unique(data[['batter']])\n",
    "players = playerid_reverse_lookup(player_ids = data_batters)\n",
    "data = data.join(players.set_index('key_mlbam'),on='batter')\n",
    "data['batter_name'] = data['name_first'] + ' ' + data['name_last']\n",
    "\n",
    "data[['batter','batter_name','name_first','name_last','player_name','at_bat_number','pitch_number','inning','inning_topbot','inn']].sort_values(['at_bat_number','pitch_number'])\n",
    "\n",
    "# for col in players.columns: \n",
    "#     print(col) "
   ]
  }
 ],
 "metadata": {
  "kernelspec": {
   "display_name": "Python 3",
   "language": "python",
   "name": "python3"
  },
  "language_info": {
   "codemirror_mode": {
    "name": "ipython",
    "version": 3
   },
   "file_extension": ".py",
   "mimetype": "text/x-python",
   "name": "python",
   "nbconvert_exporter": "python",
   "pygments_lexer": "ipython3",
   "version": "3.7.0"
  }
 },
 "nbformat": 4,
 "nbformat_minor": 2
}
