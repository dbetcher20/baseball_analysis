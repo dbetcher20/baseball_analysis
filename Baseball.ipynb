{
 "cells": [
  {
   "cell_type": "code",
   "execution_count": null,
   "metadata": {},
   "outputs": [],
   "source": [
    "# pitch by pitch raw data pull\n",
    "\n",
    "from pybaseball import statcast\n",
    "\n",
    "pitch_by_pitch = statcast(start_dt='2019-03-25',end_dt='2019-08-06',team='CHC')\n",
    "pitch_by_pitch.head(10)"
   ]
  },
  {
   "cell_type": "code",
   "execution_count": null,
   "metadata": {},
   "outputs": [],
   "source": [
    "# list of field names\n",
    "\n",
    "import pandas  \n",
    "for col in pitch_by_pitch.columns: \n",
    "    print(col) "
   ]
  },
  {
   "cell_type": "code",
   "execution_count": null,
   "metadata": {},
   "outputs": [],
   "source": [
    "# game by game list of games and result\n",
    "\n",
    "from pybaseball import schedule_and_record\n",
    "\n",
    "schedule = schedule_and_record(2019, 'CHC')\n",
    "schedule['W/L'].replace('W-wo','W', inplace=True)\n",
    "schedule['W/L'].replace('L-wo','L', inplace=True)\n",
    "schedule"
   ]
  },
  {
   "cell_type": "code",
   "execution_count": null,
   "metadata": {},
   "outputs": [],
   "source": [
    "# total counts of values in selected field\n",
    "\n",
    "import numpy\n",
    "import pandas\n",
    "\n",
    "schedule['W/L'].value_counts()"
   ]
  },
  {
   "cell_type": "code",
   "execution_count": null,
   "metadata": {},
   "outputs": [],
   "source": [
    "# creating averages through groupbys and conditionals\n",
    "\n",
    "home_diff = schedule[schedule['Home_Away'] == 'Home'].groupby('W/L', as_index=False)['R','RA'].mean()\n",
    "away_diff = schedule[schedule['Home_Away'] == '@'].groupby('W/L', as_index=False)['R','RA'].mean()\n",
    "total_diff = schedule.groupby('W/L')['R','RA'].mean()\n",
    "\n",
    "total_diff"
   ]
  },
  {
   "cell_type": "code",
   "execution_count": null,
   "metadata": {},
   "outputs": [],
   "source": [
    "# calculate aggregates of fields using a groupby\n",
    "\n",
    "grouped = schedule.groupby(['Opp','W/L','Home_Away']).agg({'R': ['count', 'mean'], 'RA': ['mean']})\n",
    "grouped.columns = [\"_\".join(x) for x in grouped.columns.ravel()]\n",
    "grouped"
   ]
  },
  {
   "cell_type": "code",
   "execution_count": null,
   "metadata": {},
   "outputs": [],
   "source": [
    "# create a new field as a calculation and then average that column in a groupby\n",
    "\n",
    "grouped['diff'] = grouped['R_mean']-grouped['RA_mean']\n",
    "run_diff = grouped.groupby(['Opp','W/L'])['diff'].mean()\n",
    "run_diff"
   ]
  },
  {
   "cell_type": "code",
   "execution_count": null,
   "metadata": {},
   "outputs": [],
   "source": [
    "# subset the top HR hitters and bottom HR hitters, calculate averages of those\n",
    "# groups, and calculate the differences \n",
    "\n",
    "import pandas\n",
    "from pybaseball import batting_stats\n",
    "\n",
    "data = batting_stats(start_season=2019, end_season=2019, qual=300, ind=0)\n",
    "data.head(10)\n",
    "\n",
    "hr_leaders = data.sort_values(['HR'], ascending=False)\n",
    "hr_top10 = hr_leaders[['Name','AB','HR','Hard%','ISO','BABIP','WAR','Pull%','Cent%','Oppo%','FB%','FBv','O-Swing%','Z-Swing%']].head(10)\n",
    "hr_bot10 = hr_leaders[['Name','AB','HR','Hard%','ISO','BABIP','WAR','Pull%','Cent%','Oppo%','FB%','FBv','O-Swing%','Z-Swing%']].tail(10)\n",
    "\n",
    "top_means = hr_top10.mean()\n",
    "bot_means = hr_bot10.mean()\n",
    "diff = top_means - bot_means\n",
    "diff"
   ]
  },
  {
   "cell_type": "code",
   "execution_count": null,
   "metadata": {},
   "outputs": [],
   "source": [
    "# subset based on multiple conditions and sort\n",
    "\n",
    "from pybaseball import bwar_bat\n",
    "import numpy\n",
    "\n",
    "bwar_data = bwar_bat()\n",
    "bwar_data = bwar_data[(bwar_data['year_ID'] == 2019) & (bwar_data['team_ID'] == 'CHC')]\n",
    "bwar_data[['name_common','G','PA','salary','WAR']].sort_values('WAR',ascending = False)"
   ]
  },
  {
   "cell_type": "code",
   "execution_count": null,
   "metadata": {},
   "outputs": [],
   "source": [
    "# subset based on multiple conditions and sort\n",
    "\n",
    "from pybaseball import bwar_pitch\n",
    "import numpy\n",
    "\n",
    "pwar_data = bwar_pitch()\n",
    "pwar_data = pwar_data[(pwar_data['year_ID'] == 2019) & (pwar_data['team_ID'] == 'CHC')]\n",
    "pwar_data = pwar_data[['name_common','G','GS','RA','xRA','BIP_perc','salary','WAR']].sort_values('WAR',ascending = False)\n",
    "pwar_data"
   ]
  },
  {
   "cell_type": "code",
   "execution_count": null,
   "metadata": {
    "scrolled": true
   },
   "outputs": [],
   "source": [
    "# subset of best ERA pitchers with min 100 IP\n",
    "\n",
    "from pybaseball import pitching_stats\n",
    "\n",
    "pitch = pitching_stats(start_season=2019).sort_values('ERA')\n",
    "pitch = pitch[pitch['IP'] > 100]\n",
    "pitch[['Name','Team','ERA','WAR','IP','K']]"
   ]
  },
  {
   "cell_type": "code",
   "execution_count": null,
   "metadata": {},
   "outputs": [],
   "source": [
    "# find player ids using last played filter\n",
    "\n",
    "from pybaseball import playerid_lookup\n",
    "\n",
    "player = playerid_lookup('Bryant')\n",
    "player = player[player['mlb_played_last'] == 2019]\n",
    "player"
   ]
  },
  {
   "cell_type": "code",
   "execution_count": null,
   "metadata": {},
   "outputs": [],
   "source": [
    "# results for a batter in a game\n",
    "\n",
    "from pybaseball import statcast_batter\n",
    "import numpy\n",
    "import pandas\n",
    "\n",
    "bryant = statcast_batter(player_id=592178)\n",
    "bryant = bryant['events'].value_counts()\n",
    "bryant"
   ]
  },
  {
   "cell_type": "code",
   "execution_count": null,
   "metadata": {},
   "outputs": [],
   "source": [
    "# trying to join to the player id to get pitches thrown by pitcher\n",
    "\n",
    "from pybaseball import statcast_single_game, playerid_reverse_lookup\n",
    "import numpy\n",
    "import pandas\n",
    "\n",
    "cubs_beat_reds = statcast_single_game(game_pk = 565277)\n",
    "cubs_beat_reds_pitchers = numpy.unique(cubs_beat_reds[['pitcher']])\n",
    "\n",
    "cubs_beat_reds_pitchers\n",
    "players = playerid_reverse_lookup(player_ids = cubs_beat_reds_pitchers)\n",
    "\n",
    "new_cubs_beat_reds = cubs_beat_reds.join(players.set_index('key_mlbam'),on='pitcher')\n",
    "new_cubs_beat_reds = new_cubs_beat_reds.fillna(0)\n",
    "\n",
    "new_cubs_beat_reds.describe(include='all')\n",
    "\n",
    "# cant figure this out...\n",
    "# grouped = new_cubs_beat_reds(['pitch_type','name_last','name_first']).size().unstack(fill_value=0)\n",
    "# grouped"
   ]
  }
 ],
 "metadata": {
  "kernelspec": {
   "display_name": "Python 3",
   "language": "python",
   "name": "python3"
  },
  "language_info": {
   "codemirror_mode": {
    "name": "ipython",
    "version": 3
   },
   "file_extension": ".py",
   "mimetype": "text/x-python",
   "name": "python",
   "nbconvert_exporter": "python",
   "pygments_lexer": "ipython3",
   "version": "3.7.0"
  }
 },
 "nbformat": 4,
 "nbformat_minor": 2
}
