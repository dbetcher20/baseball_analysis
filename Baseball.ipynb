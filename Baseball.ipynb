{
 "cells": [
  {
   "cell_type": "code",
   "execution_count": 338,
   "metadata": {},
   "outputs": [],
   "source": [
    "import pandas  \n",
    "import numpy\n",
    "from pybaseball import schedule_and_record\n",
    "from pybaseball import batting_stats\n",
    "from pybaseball import bwar_bat\n",
    "from pybaseball import bwar_pitch\n",
    "from pybaseball import pitching_stats\n",
    "from pybaseball import batting_stats\n",
    "from datetime import timedelta, date\n",
    "import time"
   ]
  },
  {
   "cell_type": "code",
   "execution_count": null,
   "metadata": {},
   "outputs": [],
   "source": [
    "# game results and schedule\n",
    "teams_list = ['CHC','CIN','STL','PIT','MIL','LAD','ARI','COL','SDP','SFG','MIA','PHI','NYM','ATL','WSN',\n",
    "             'CHW','CLE','KCR','DET','MIN','HOU','OAK','SEA','LAA','TEX','NYY','TBR','BOS','TOR','BAL']\n",
    "\n",
    "def results(x):\n",
    "    schedule = schedule_and_record(2020, x)\n",
    "    schedule['W/L'].replace('W-wo','W', inplace=True)\n",
    "    schedule['W/L'].replace('L-wo','L', inplace=True)\n",
    "    return(schedule)\n",
    "schedule_results = pandas.DataFrame()\n",
    "\n",
    "for team in teams_list:\n",
    "    sched = results(team)\n",
    "    schedule_results = pandas.concat([schedule_results,sched],ignore_index=True)\n",
    "schedule_results"
   ]
  },
  {
   "cell_type": "code",
   "execution_count": null,
   "metadata": {},
   "outputs": [],
   "source": [
    "# export hitter war\n",
    "bwar_data = bwar_bat()\n",
    "bwar_data = bwar_data[(bwar_data['year_ID'] == 2019)]\n",
    "bwar_data = bwar_data[['name_common','mlb_ID','pitcher','G','PA','salary','WAR']]\n",
    "bwar_data.to_csv('batting_war.csv')\n",
    "# export pitcher war\n",
    "pwar_data = bwar_pitch()\n",
    "pwar_data = pwar_data[(pwar_data['year_ID'] == 2019)]\n",
    "pwar_data = pwar_data[['name_common','G','GS','RA','xRA','BIP_perc','salary','WAR']]\n",
    "pwar_data.to_csv('pitching_war.csv')\n",
    "# export pitching stats\n",
    "pitch = pitching_stats(start_season=2019)\n",
    "pitch.to_csv('pitching_stats.csv')\n",
    "# export hitter stats\n",
    "data = batting_stats(start_season=2019, end_season=2019)\n",
    "data.to_csv('batting_stats.csv')"
   ]
  },
  {
   "cell_type": "code",
   "execution_count": 341,
   "metadata": {},
   "outputs": [
    {
     "name": "stdout",
     "output_type": "stream",
     "text": [
      "Wall time: 17.7 s\n"
     ]
    }
   ],
   "source": [
    "%%time\n",
    "\n",
    "# returns pitch by pitch data for all games between specified dates\n",
    "from pybaseball import statcast\n",
    "from datetime import timedelta, date\n",
    "\n",
    "statcast_df = pandas.DataFrame()\n",
    "start_date = date(2020,10,20)\n",
    "end_date = date(2020,10,31)\n",
    "t = 0\n",
    "dates_of_pull = pandas.date_range(start_date,end_date-timedelta(days=1),freq='d')\n",
    "\n",
    "for i in range(len(dates_of_pull)):\n",
    "    exact_date = dates_of_pull[t].strftime('%Y-%m-%d')\n",
    "    statcast_pull = statcast(start_dt=exact_date,end_dt=exact_date)\n",
    "    statcast_pull = statcast_pull.drop(columns=['des'])\n",
    "    statcast_df = pandas.concat([statcast_df,statcast_pull],axis=0)\n",
    "    t += 1\n",
    "    time.sleep(1)\n",
    "    \n",
    "# statcast_df.to_csv('statcast.csv')"
   ]
  },
  {
   "cell_type": "code",
   "execution_count": 335,
   "metadata": {},
   "outputs": [],
   "source": [
    "#find missing players information\n",
    "from bs4 import BeautifulSoup\n",
    "from requests_html import HTMLSession\n",
    "session = HTMLSession()\n",
    "from pandas.io.json import json_normalize\n",
    "import json\n",
    "import pandas\n",
    "import numpy\n",
    "from datetime import date\n",
    "\n",
    "names =[]\n",
    "positions = []\n",
    "batthrow = []\n",
    "htwt = []\n",
    "born = []\n",
    "ids =[]\n",
    "\n",
    "#input mlb player ids to get player bio info\n",
    "player_ids = ['657656','669257']\n",
    "#\n",
    "\n",
    "headers = {\n",
    "           'accept': 'text/html,application/xhtml+xml,application/xml;q=0.9,image/webp,image/apng,*/*;q=0.8',\n",
    "           'accept-encoding': 'gzip, deflate, br',\n",
    "           'accept-language': 'en-US,en;q=0.8',\n",
    "           'upgrade-insecure-requests': '1',\n",
    "           'user-agent': 'Mozilla/5.0 (Windows NT 10.0; Win64; x64) AppleWebKit/537.36 (KHTML, like Gecko) Chrome/61.0.3163.100 Safari/537.36'\n",
    "        }\n",
    "\n",
    "for i in player_ids:\n",
    "    url = \"https://www.mlb.com/player/\"+str(i)\n",
    "    content = session.get(url, headers=headers)\n",
    "    soup = BeautifulSoup(content.text, \"html.parser\")\n",
    "    ids.append(str(i))\n",
    "    try:\n",
    "        names.append(soup.find(\"main\").find(\"h1\").find_all(\"span\")[0].text)\n",
    "    except:\n",
    "        names.append('none')\n",
    "    try:\n",
    "        positions.append(soup.find(\"main\").find(\"ul\").find_all(\"li\")[0].text)\n",
    "    except:\n",
    "        positions.append('none')\n",
    "    try:\n",
    "        batthrow.append(soup.find(\"main\").find(\"ul\").find_all(\"li\")[1].text)\n",
    "    except:\n",
    "        batthrow.append('none')\n",
    "    try:\n",
    "        htwt.append(soup.find(\"main\").find(\"ul\").find_all(\"li\")[2].text)\n",
    "    except:\n",
    "        htwt.append('none')\n",
    "    try:\n",
    "        born.append(soup.find(lambda tag: tag.name == 'span' and tag.get_text(strip=True) == 'Born:').find_next_sibling(text=True))\n",
    "    except:\n",
    "        born.append('none')\n",
    "player_data = pandas.DataFrame(dict(player_id=ids,name=names,position=positions,bat_throw=batthrow,height_weight=htwt,born_place=born))\n",
    "player_data = player_data.set_index('player_id')\n",
    "# player_data.to_csv('mlb_missing_ids.csv')"
   ]
  }
 ],
 "metadata": {
  "kernelspec": {
   "display_name": "Python 3",
   "language": "python",
   "name": "python3"
  },
  "language_info": {
   "codemirror_mode": {
    "name": "ipython",
    "version": 3
   },
   "file_extension": ".py",
   "mimetype": "text/x-python",
   "name": "python",
   "nbconvert_exporter": "python",
   "pygments_lexer": "ipython3",
   "version": "3.7.4"
  }
 },
 "nbformat": 4,
 "nbformat_minor": 2
}
